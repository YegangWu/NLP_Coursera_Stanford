{
 "cells": [
  {
   "cell_type": "code",
   "execution_count": 120,
   "metadata": {
    "collapsed": true
   },
   "outputs": [],
   "source": [
    "import sys\n",
    "import os\n",
    "import re\n",
    "import pprint"
   ]
  },
  {
   "cell_type": "code",
   "execution_count": 221,
   "metadata": {
    "collapsed": true
   },
   "outputs": [],
   "source": [
    "email_first_pat = '([\\w\\.]+)\\s?(?:@|\\sat\\s)\\s?([\\w\\.\\s]+)[\\.\\s](?:edu|EDU)'"
   ]
  },
  {
   "cell_type": "code",
   "execution_count": 222,
   "metadata": {
    "collapsed": false
   },
   "outputs": [],
   "source": [
    "#match \"engler WHERE stanford DOM edu\"\n",
    "email_second_pat = '([\\w]+)\\sWHERE\\s([\\w]+)\\sDOM\\sedu'"
   ]
  },
  {
   "cell_type": "code",
   "execution_count": 223,
   "metadata": {
    "collapsed": false
   },
   "outputs": [],
   "source": [
    "#match \"jks at robotics;stanford;edu\"\n",
    "email_third_pat = '([\\w]+)\\sat\\s([\\w;]+)edu'"
   ]
  },
  {
   "cell_type": "code",
   "execution_count": 235,
   "metadata": {
    "collapsed": true
   },
   "outputs": [],
   "source": [
    "#match \"obfuscate('stanford.edu','jurafsky')\"\n",
    "email_forth_pat = \"obfuscate\\('([\\w\\.]+)','([\\w\\.]+)'\\)\""
   ]
  },
  {
   "cell_type": "code",
   "execution_count": 225,
   "metadata": {
    "collapsed": true
   },
   "outputs": [],
   "source": [
    "#match \"(650)725-3726\"\n",
    "phone_first_pat = '\\(([0-9]{3})\\)\\s?([0-9]{3})\\-([0-9]{4})'"
   ]
  },
  {
   "cell_type": "code",
   "execution_count": 226,
   "metadata": {
    "collapsed": true
   },
   "outputs": [],
   "source": [
    "#match \"650-725-3726\"\n",
    "phone_second_pat = '([0-9]{3})\\-([0-9]{3})\\-([0-9]{4})'"
   ]
  },
  {
   "cell_type": "code",
   "execution_count": 227,
   "metadata": {
    "collapsed": true
   },
   "outputs": [],
   "source": [
    "#match \"650 725 9046\", \"650 725-9046\"\n",
    "phone_third_pat = '([0-9]{3})\\s([0-9]{3})[\\s\\-]([0-9]{4})'"
   ]
  },
  {
   "cell_type": "code",
   "execution_count": 228,
   "metadata": {
    "collapsed": false
   },
   "outputs": [],
   "source": [
    "def exchange(m):\n",
    "    if 'edu' in m[0]:\n",
    "        m = tuple([m[1], m[0].replace('.edu', '')])\n",
    "    return m"
   ]
  },
  {
   "cell_type": "code",
   "execution_count": 230,
   "metadata": {
    "collapsed": false
   },
   "outputs": [],
   "source": [
    "email_pat = '|'.join([email_first_pat, email_second_pat, email_third_pat, email_forth_pat])\n",
    "phone_pat = '|'.join([phone_first_pat, phone_second_pat, phone_third_pat])"
   ]
  },
  {
   "cell_type": "code",
   "execution_count": 233,
   "metadata": {
    "collapsed": false
   },
   "outputs": [],
   "source": [
    "\"\"\"\n",
    "TODO\n",
    "This function takes in a filename along with the file object (actually\n",
    "a StringIO object at submission time) and\n",
    "scans its contents against regex patterns. It returns a list of\n",
    "(filename, type, value) tuples where type is either an 'e' or a 'p'\n",
    "for e-mail or phone, and value is the formatted phone number or e-mail.\n",
    "The canonical formats are:\n",
    "     (name, 'p', '###-###-#####')\n",
    "     (name, 'e', 'someone@something')\n",
    "If the numbers you submit are formatted differently they will not\n",
    "match the gold answers\n",
    "\n",
    "NOTE: ***don't change this interface***, as it will be called directly by\n",
    "the submit script\n",
    "\n",
    "NOTE: You shouldn't need to worry about this, but just so you know, the\n",
    "'f' parameter below will be of type StringIO at submission time. So, make\n",
    "sure you check the StringIO interface if you do anything really tricky,\n",
    "though StringIO should support most everything.\n",
    "\"\"\"\n",
    "def process_file(name, f):\n",
    "    # note that debug info should be printed to stderr\n",
    "    # sys.stderr.write('[process_file]\\tprocessing file: %s\\n' % (path))\n",
    "    res = []\n",
    "    for line in f:\n",
    "        line = line.replace(' dot ', '.')\n",
    "        line2 = line.replace('-', '')\n",
    "        matches = re.findall(email_pat,line2)\n",
    "        for m in matches:\n",
    "            m = tuple([mat.replace(';', '.').replace(' ', '.').rstrip('.') for mat in m if mat != ''])\n",
    "            m = exchange(m)\n",
    "            email = '%s@%s.edu' % m\n",
    "            res.append((name,'e',email))\n",
    "        matches = re.findall(phone_pat,line)\n",
    "        for m in matches:\n",
    "            m = tuple([mat for mat in m if mat != ''])\n",
    "            phone = '%s-%s-%s' % m\n",
    "            res.append((name,'p', phone))\n",
    "    return res\n",
    "\n",
    "\"\"\"\n",
    "You should not need to edit this function, nor should you alter\n",
    "its interface as it will be called directly by the submit script\n",
    "\"\"\"\n",
    "def process_dir(data_path):\n",
    "    # get candidates\n",
    "    guess_list = []\n",
    "    for fname in os.listdir(data_path):\n",
    "        if fname[0] == '.':\n",
    "            continue\n",
    "        path = os.path.join(data_path,fname)\n",
    "        f = open(path,'r')\n",
    "        f_guesses = process_file(fname, f)\n",
    "        guess_list.extend(f_guesses)\n",
    "    return guess_list\n",
    "\n",
    "\"\"\"\n",
    "You should not need to edit this function.\n",
    "Given a path to a tsv file of gold e-mails and phone numbers\n",
    "this function returns a list of tuples of the canonical form:\n",
    "(filename, type, value)\n",
    "\"\"\"\n",
    "def get_gold(gold_path):\n",
    "    # get gold answers\n",
    "    gold_list = []\n",
    "    f_gold = open(gold_path,'r')\n",
    "    for line in f_gold:\n",
    "        gold_list.append(tuple(line.strip().split('\\t')))\n",
    "    return gold_list\n",
    "\n",
    "\"\"\"\n",
    "You should not need to edit this function.\n",
    "Given a list of guessed contacts and gold contacts, this function\n",
    "computes the intersection and set differences, to compute the true\n",
    "positives, false positives and false negatives.  Importantly, it\n",
    "converts all of the values to lower case before comparing\n",
    "\"\"\"\n",
    "def score(guess_list, gold_list):\n",
    "    guess_list = [(fname, _type, value.lower()) for (fname, _type, value) in guess_list]\n",
    "    gold_list = [(fname, _type, value.lower()) for (fname, _type, value) in gold_list]\n",
    "    guess_set = set(guess_list)\n",
    "    gold_set = set(gold_list)\n",
    "\n",
    "    tp = guess_set.intersection(gold_set)\n",
    "    fp = guess_set - gold_set\n",
    "    fn = gold_set - guess_set\n",
    "\n",
    "    pp = pprint.PrettyPrinter()\n",
    "    #print 'Guesses (%d): ' % len(guess_set)\n",
    "    #pp.pprint(guess_set)\n",
    "    #print 'Gold (%d): ' % len(gold_set)\n",
    "    #pp.pprint(gold_set)\n",
    "    print 'True Positives (%d): ' % len(tp)\n",
    "    pp.pprint(tp)\n",
    "    print 'False Positives (%d): ' % len(fp)\n",
    "    pp.pprint(fp)\n",
    "    print 'False Negatives (%d): ' % len(fn)\n",
    "    pp.pprint(fn)\n",
    "    print 'Summary: tp=%d, fp=%d, fn=%d' % (len(tp),len(fp),len(fn))\n",
    "\n",
    "\"\"\"\n",
    "You should not need to edit this function.\n",
    "It takes in the string path to the data directory and the\n",
    "gold file\n",
    "\"\"\"\n",
    "def main(data_path, gold_path):\n",
    "    guess_list = process_dir(data_path)\n",
    "    gold_list =  get_gold(gold_path)\n",
    "    score(guess_list, gold_list)"
   ]
  },
  {
   "cell_type": "code",
   "execution_count": 234,
   "metadata": {
    "collapsed": false,
    "scrolled": true
   },
   "outputs": [
    {
     "name": "stdout",
     "output_type": "stream",
     "text": [
      "True Positives (112): \n",
      "set([('ashishg', 'e', 'ashishg@stanford.edu'),\n",
      "     ('ashishg', 'e', 'rozm@stanford.edu'),\n",
      "     ('ashishg', 'p', '650-723-1614'),\n",
      "     ('ashishg', 'p', '650-723-4173'),\n",
      "     ('ashishg', 'p', '650-814-1478'),\n",
      "     ('balaji', 'e', 'balaji@stanford.edu'),\n",
      "     ('bgirod', 'p', '650-723-4539'),\n",
      "     ('bgirod', 'p', '650-724-3648'),\n",
      "     ('bgirod', 'p', '650-724-6354'),\n",
      "     ('cheriton', 'e', 'cheriton@cs.stanford.edu'),\n",
      "     ('cheriton', 'e', 'uma@cs.stanford.edu'),\n",
      "     ('cheriton', 'p', '650-723-1131'),\n",
      "     ('cheriton', 'p', '650-725-3726'),\n",
      "     ('dabo', 'e', 'dabo@cs.stanford.edu'),\n",
      "     ('dabo', 'p', '650-725-3897'),\n",
      "     ('dabo', 'p', '650-725-4671'),\n",
      "     ('dlwh', 'e', 'dlwh@stanford.edu'),\n",
      "     ('engler', 'e', 'engler@lcs.mit.edu'),\n",
      "     ('engler', 'e', 'engler@stanford.edu'),\n",
      "     ('eroberts', 'e', 'eroberts@cs.stanford.edu'),\n",
      "     ('eroberts', 'p', '650-723-3642'),\n",
      "     ('eroberts', 'p', '650-723-6092'),\n",
      "     ('fedkiw', 'e', 'fedkiw@cs.stanford.edu'),\n",
      "     ('hager', 'e', 'hager@cs.jhu.edu'),\n",
      "     ('hager', 'p', '410-516-5521'),\n",
      "     ('hager', 'p', '410-516-5553'),\n",
      "     ('hager', 'p', '410-516-8000'),\n",
      "     ('hanrahan', 'e', 'hanrahan@cs.stanford.edu'),\n",
      "     ('hanrahan', 'p', '650-723-0033'),\n",
      "     ('hanrahan', 'p', '650-723-8530'),\n",
      "     ('horowitz', 'p', '650-725-3707'),\n",
      "     ('horowitz', 'p', '650-725-6949'),\n",
      "     ('jks', 'e', 'jks@robotics.stanford.edu'),\n",
      "     ('jurafsky', 'e', 'jurafsky@stanford.edu'),\n",
      "     ('jurafsky', 'p', '650-723-5666'),\n",
      "     ('kosecka', 'e', 'kosecka@cs.gmu.edu'),\n",
      "     ('kosecka', 'p', '703-993-1710'),\n",
      "     ('kosecka', 'p', '703-993-1876'),\n",
      "     ('kunle', 'e', 'darlene@csl.stanford.edu'),\n",
      "     ('kunle', 'e', 'kunle@ogun.stanford.edu'),\n",
      "     ('kunle', 'p', '650-723-1430'),\n",
      "     ('kunle', 'p', '650-725-3713'),\n",
      "     ('kunle', 'p', '650-725-6949'),\n",
      "     ('lam', 'e', 'lam@cs.stanford.edu'),\n",
      "     ('lam', 'p', '650-725-3714'),\n",
      "     ('lam', 'p', '650-725-6949'),\n",
      "     ('latombe', 'e', 'asandra@cs.stanford.edu'),\n",
      "     ('latombe', 'e', 'latombe@cs.stanford.edu'),\n",
      "     ('latombe', 'e', 'liliana@cs.stanford.edu'),\n",
      "     ('latombe', 'p', '650-721-6625'),\n",
      "     ('latombe', 'p', '650-723-0350'),\n",
      "     ('latombe', 'p', '650-723-4137'),\n",
      "     ('latombe', 'p', '650-725-1449'),\n",
      "     ('levoy', 'p', '650-723-0033'),\n",
      "     ('levoy', 'p', '650-724-6865'),\n",
      "     ('levoy', 'p', '650-725-3724'),\n",
      "     ('levoy', 'p', '650-725-4089'),\n",
      "     ('manning', 'e', 'dbarros@cs.stanford.edu'),\n",
      "     ('manning', 'e', 'manning@cs.stanford.edu'),\n",
      "     ('manning', 'p', '650-723-7683'),\n",
      "     ('manning', 'p', '650-725-1449'),\n",
      "     ('manning', 'p', '650-725-3358'),\n",
      "     ('nass', 'e', 'nass@stanford.edu'),\n",
      "     ('nass', 'p', '650-723-5499'),\n",
      "     ('nass', 'p', '650-725-2472'),\n",
      "     ('nick', 'e', 'nick.parlante@cs.stanford.edu'),\n",
      "     ('nick', 'p', '650-725-4727'),\n",
      "     ('ok', 'p', '650-723-9753'),\n",
      "     ('ok', 'p', '650-725-1449'),\n",
      "     ('pal', 'e', 'pal@cs.stanford.edu'),\n",
      "     ('pal', 'p', '650-725-9046'),\n",
      "     ('psyoung', 'e', 'patrick.young@stanford.edu'),\n",
      "     ('rajeev', 'p', '650-723-4377'),\n",
      "     ('rajeev', 'p', '650-723-6045'),\n",
      "     ('rajeev', 'p', '650-725-4671'),\n",
      "     ('rinard', 'e', 'rinard@lcs.mit.edu'),\n",
      "     ('rinard', 'p', '617-253-1221'),\n",
      "     ('rinard', 'p', '617-258-6922'),\n",
      "     ('serafim', 'e', 'serafim@cs.stanford.edu'),\n",
      "     ('serafim', 'p', '650-723-3334'),\n",
      "     ('serafim', 'p', '650-725-1449'),\n",
      "     ('shoham', 'e', 'shoham@stanford.edu'),\n",
      "     ('shoham', 'p', '650-723-3432'),\n",
      "     ('shoham', 'p', '650-725-1449'),\n",
      "     ('subh', 'e', 'subh@stanford.edu'),\n",
      "     ('subh', 'e', 'uma@cs.stanford.edu'),\n",
      "     ('subh', 'p', '650-724-1915'),\n",
      "     ('subh', 'p', '650-725-3726'),\n",
      "     ('subh', 'p', '650-725-6949'),\n",
      "     ('thm', 'e', 'pkrokel@stanford.edu'),\n",
      "     ('thm', 'p', '650-725-3383'),\n",
      "     ('thm', 'p', '650-725-3636'),\n",
      "     ('thm', 'p', '650-725-3938'),\n",
      "     ('tim', 'p', '650-724-9147'),\n",
      "     ('tim', 'p', '650-725-2340'),\n",
      "     ('tim', 'p', '650-725-4671'),\n",
      "     ('ullman', 'e', 'ullman@cs.stanford.edu'),\n",
      "     ('ullman', 'p', '650-494-8016'),\n",
      "     ('ullman', 'p', '650-725-2588'),\n",
      "     ('ullman', 'p', '650-725-4802'),\n",
      "     ('vladlen', 'e', 'vladlen@stanford.edu'),\n",
      "     ('widom', 'e', 'siroker@cs.stanford.edu'),\n",
      "     ('widom', 'e', 'widom@cs.stanford.edu'),\n",
      "     ('widom', 'p', '650-723-0872'),\n",
      "     ('widom', 'p', '650-723-7690'),\n",
      "     ('widom', 'p', '650-725-2588'),\n",
      "     ('zelenski', 'e', 'zelenski@cs.stanford.edu'),\n",
      "     ('zelenski', 'p', '650-723-6092'),\n",
      "     ('zelenski', 'p', '650-725-8596'),\n",
      "     ('zm', 'e', 'manna@cs.stanford.edu'),\n",
      "     ('zm', 'p', '650-723-4364'),\n",
      "     ('zm', 'p', '650-725-4671')])\n",
      "False Positives (2): \n",
      "set([('jure', 'e', 'server@cs.stanford.edu'),\n",
      "     ('plotkin', 'e', 'server@infolab.stanford.edu')])\n",
      "False Negatives (5): \n",
      "set([('levoy', 'e', 'ada@graphics.stanford.edu'),\n",
      "     ('levoy', 'e', 'melissa@graphics.stanford.edu'),\n",
      "     ('ouster', 'e', 'ouster@cs.stanford.edu'),\n",
      "     ('ouster', 'e', 'teresa.lynn@stanford.edu'),\n",
      "     ('ullman', 'e', 'support@gradiance.com')])\n",
      "Summary: tp=112, fp=2, fn=5\n"
     ]
    }
   ],
   "source": [
    "main('../data/dev', '../data/devGOLD')"
   ]
  },
  {
   "cell_type": "code",
   "execution_count": null,
   "metadata": {
    "collapsed": true
   },
   "outputs": [],
   "source": []
  },
  {
   "cell_type": "code",
   "execution_count": null,
   "metadata": {
    "collapsed": true
   },
   "outputs": [],
   "source": []
  }
 ],
 "metadata": {
  "kernelspec": {
   "display_name": "Python 2",
   "language": "python",
   "name": "python2"
  },
  "language_info": {
   "codemirror_mode": {
    "name": "ipython",
    "version": 2
   },
   "file_extension": ".py",
   "mimetype": "text/x-python",
   "name": "python",
   "nbconvert_exporter": "python",
   "pygments_lexer": "ipython2",
   "version": "2.7.9"
  }
 },
 "nbformat": 4,
 "nbformat_minor": 0
}
