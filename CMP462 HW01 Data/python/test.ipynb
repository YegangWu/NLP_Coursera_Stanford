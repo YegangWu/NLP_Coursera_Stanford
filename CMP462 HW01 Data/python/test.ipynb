{
 "cells": [
  {
   "cell_type": "code",
   "execution_count": 87,
   "metadata": {
    "collapsed": true
   },
   "outputs": [],
   "source": [
    "import sys\n",
    "import os\n",
    "import re\n",
    "import pprint"
   ]
  },
  {
   "cell_type": "code",
   "execution_count": 137,
   "metadata": {
    "collapsed": true
   },
   "outputs": [],
   "source": [
    "my_first_pat = '([\\w\\.]+)\\s?(?:@|\\sat\\s)\\s?([\\w\\.\\s]+)[\\.\\s](?:edu|EDU)'"
   ]
  },
  {
   "cell_type": "code",
   "execution_count": 138,
   "metadata": {
    "collapsed": true
   },
   "outputs": [],
   "source": [
    "#match \"engler WHERE stanford DOM edu\"\n",
    "my_second_pat = '([\\w]+)\\sWHERE\\s([\\w]+)\\sDOM\\sedu'"
   ]
  },
  {
   "cell_type": "code",
   "execution_count": 139,
   "metadata": {
    "collapsed": true
   },
   "outputs": [],
   "source": [
    "#match \"jks at robotics;stanford;edu\"\n",
    "my_third_pat = '([\\w]+)\\sat\\s([\\w;]+)edu'"
   ]
  },
  {
   "cell_type": "code",
   "execution_count": 140,
   "metadata": {
    "collapsed": true
   },
   "outputs": [],
   "source": [
    "#match \"obfuscate('stanford.edu','jurafsky')\"\n",
    "my_forth_pat = \"obfuscate\\('([\\w\\.]+)','([\\w\\.]+)'\\)\""
   ]
  },
  {
   "cell_type": "code",
   "execution_count": 141,
   "metadata": {
    "collapsed": true
   },
   "outputs": [],
   "source": [
    "phone_first_pat = '\\(([0-9]{3})\\)([0-9]{3})\\-([0-9]{4})'"
   ]
  },
  {
   "cell_type": "code",
   "execution_count": 142,
   "metadata": {
    "collapsed": true
   },
   "outputs": [],
   "source": [
    "phone_second_pat = '([0-9]{3})\\-([0-9]{3})\\-([0-9]{4})'"
   ]
  },
  {
   "cell_type": "code",
   "execution_count": 143,
   "metadata": {
    "collapsed": true
   },
   "outputs": [],
   "source": [
    "#match \"650 725 9046\"\n",
    "phone_third_pat = '([0-9]{3})\\s([0-9]{3})\\s([0-9]{3})'"
   ]
  },
  {
   "cell_type": "code",
   "execution_count": 144,
   "metadata": {
    "collapsed": true
   },
   "outputs": [],
   "source": [
    "def exchange(m):\n",
    "    if 'edu' in m[0]:\n",
    "        m = tuple([m[1], m[0].replace(\".edu\", \"\")])\n",
    "    return m"
   ]
  },
  {
   "cell_type": "code",
   "execution_count": 145,
   "metadata": {
    "collapsed": false
   },
   "outputs": [],
   "source": [
    "pat = '|'.join([my_first_pat, my_second_pat, my_third_pat, my_forth_pat])\n",
    "phone_pat = '|'.join([phone_first_pat, phone_second_pat, phone_third_pat])"
   ]
  },
  {
   "cell_type": "code",
   "execution_count": 147,
   "metadata": {
    "collapsed": false
   },
   "outputs": [
    {
     "name": "stdout",
     "output_type": "stream",
     "text": [
      "('pal', 'cs.stanford')\n",
      "['pal@cs.stanford.edu']\n"
     ]
    }
   ],
   "source": [
    "res = []\n",
    "line = 'email: pal at cs stanford edu, '\n",
    "line = line.replace(' dot ', '.')\n",
    "line2 = line.replace('-', '')\n",
    "matches = re.findall(pat,line2)\n",
    "for m in matches:\n",
    "    m = tuple([mat.replace(';', '.').replace(' ', '.').rstrip('.') for mat in m if mat != ''])\n",
    "    m = exchange(m)\n",
    "    print m\n",
    "    email = '%s@%s.edu' % m\n",
    "    res.append(email)\n",
    "matches = re.findall(phone_pat,line)\n",
    "for m in matches:\n",
    "    m = tuple([mat for mat in m if mat != ''])\n",
    "    print m\n",
    "    phone = '%s-%s-%s' % m\n",
    "    res.append(phone)\n",
    "print res"
   ]
  },
  {
   "cell_type": "code",
   "execution_count": null,
   "metadata": {
    "collapsed": true
   },
   "outputs": [],
   "source": []
  },
  {
   "cell_type": "code",
   "execution_count": null,
   "metadata": {
    "collapsed": true
   },
   "outputs": [],
   "source": []
  }
 ],
 "metadata": {
  "kernelspec": {
   "display_name": "Python 2",
   "language": "python",
   "name": "python2"
  },
  "language_info": {
   "codemirror_mode": {
    "name": "ipython",
    "version": 2
   },
   "file_extension": ".py",
   "mimetype": "text/x-python",
   "name": "python",
   "nbconvert_exporter": "python",
   "pygments_lexer": "ipython2",
   "version": "2.7.9"
  }
 },
 "nbformat": 4,
 "nbformat_minor": 0
}
